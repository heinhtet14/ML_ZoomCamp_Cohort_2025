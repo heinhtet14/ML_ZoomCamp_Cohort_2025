{
  "nbformat": 4,
  "nbformat_minor": 0,
  "metadata": {
    "colab": {
      "provenance": [],
      "gpuType": "T4"
    },
    "kernelspec": {
      "name": "python3",
      "display_name": "Python 3"
    },
    "language_info": {
      "name": "python"
    },
    "accelerator": "GPU"
  },
  "cells": [
    {
      "cell_type": "markdown",
      "source": [
        "**Set up the environment**"
      ],
      "metadata": {
        "id": "Uxxnfuv_C64o"
      }
    },
    {
      "cell_type": "code",
      "source": [
        "!pip install pandas numpy matplotlib seaborn"
      ],
      "metadata": {
        "colab": {
          "base_uri": "https://localhost:8080/"
        },
        "id": "R7kxfswvQjaC",
        "outputId": "e1550994-7b46-48d9-9dea-12fd2cb3c2d4"
      },
      "execution_count": 1,
      "outputs": [
        {
          "output_type": "stream",
          "name": "stdout",
          "text": [
            "Requirement already satisfied: pandas in /usr/local/lib/python3.12/dist-packages (2.2.2)\n",
            "Requirement already satisfied: numpy in /usr/local/lib/python3.12/dist-packages (2.0.2)\n",
            "Requirement already satisfied: matplotlib in /usr/local/lib/python3.12/dist-packages (3.10.0)\n",
            "Requirement already satisfied: seaborn in /usr/local/lib/python3.12/dist-packages (0.13.2)\n",
            "Requirement already satisfied: python-dateutil>=2.8.2 in /usr/local/lib/python3.12/dist-packages (from pandas) (2.9.0.post0)\n",
            "Requirement already satisfied: pytz>=2020.1 in /usr/local/lib/python3.12/dist-packages (from pandas) (2025.2)\n",
            "Requirement already satisfied: tzdata>=2022.7 in /usr/local/lib/python3.12/dist-packages (from pandas) (2025.2)\n",
            "Requirement already satisfied: contourpy>=1.0.1 in /usr/local/lib/python3.12/dist-packages (from matplotlib) (1.3.3)\n",
            "Requirement already satisfied: cycler>=0.10 in /usr/local/lib/python3.12/dist-packages (from matplotlib) (0.12.1)\n",
            "Requirement already satisfied: fonttools>=4.22.0 in /usr/local/lib/python3.12/dist-packages (from matplotlib) (4.60.0)\n",
            "Requirement already satisfied: kiwisolver>=1.3.1 in /usr/local/lib/python3.12/dist-packages (from matplotlib) (1.4.9)\n",
            "Requirement already satisfied: packaging>=20.0 in /usr/local/lib/python3.12/dist-packages (from matplotlib) (25.0)\n",
            "Requirement already satisfied: pillow>=8 in /usr/local/lib/python3.12/dist-packages (from matplotlib) (11.3.0)\n",
            "Requirement already satisfied: pyparsing>=2.3.1 in /usr/local/lib/python3.12/dist-packages (from matplotlib) (3.2.4)\n",
            "Requirement already satisfied: six>=1.5 in /usr/local/lib/python3.12/dist-packages (from python-dateutil>=2.8.2->pandas) (1.17.0)\n"
          ]
        }
      ]
    },
    {
      "cell_type": "code",
      "execution_count": 2,
      "metadata": {
        "id": "i7YEpfxVCVMB"
      },
      "outputs": [],
      "source": [
        "import pandas as pd\n",
        "import numpy as np\n",
        "\n",
        "import seaborn as sns\n",
        "from matplotlib import pyplot as plt\n",
        "%matplotlib inline"
      ]
    },
    {
      "cell_type": "markdown",
      "source": [
        "**Q1. Pandas version**"
      ],
      "metadata": {
        "id": "fTRNsxE8DAA2"
      }
    },
    {
      "cell_type": "code",
      "source": [
        "print(pd.__version__)"
      ],
      "metadata": {
        "colab": {
          "base_uri": "https://localhost:8080/"
        },
        "id": "M9dGQgCPDDSQ",
        "outputId": "f683b768-ee58-4b0b-c154-292824bee9e6"
      },
      "execution_count": 3,
      "outputs": [
        {
          "output_type": "stream",
          "name": "stdout",
          "text": [
            "2.2.2\n"
          ]
        }
      ]
    },
    {
      "cell_type": "markdown",
      "source": [
        "Getting the data"
      ],
      "metadata": {
        "id": "WuLsiS6vDKKo"
      }
    },
    {
      "cell_type": "code",
      "source": [
        "!wget https://raw.githubusercontent.com/alexeygrigorev/datasets/master/car_fuel_efficiency.csv"
      ],
      "metadata": {
        "colab": {
          "base_uri": "https://localhost:8080/"
        },
        "id": "RedJogHiDJj1",
        "outputId": "b94df0ea-e866-415a-8b25-b78442c36dd8"
      },
      "execution_count": 4,
      "outputs": [
        {
          "output_type": "stream",
          "name": "stdout",
          "text": [
            "--2025-09-29 11:39:21--  https://raw.githubusercontent.com/alexeygrigorev/datasets/master/car_fuel_efficiency.csv\n",
            "Resolving raw.githubusercontent.com (raw.githubusercontent.com)... 185.199.108.133, 185.199.109.133, 185.199.110.133, ...\n",
            "Connecting to raw.githubusercontent.com (raw.githubusercontent.com)|185.199.108.133|:443... connected.\n",
            "HTTP request sent, awaiting response... 200 OK\n",
            "Length: 874188 (854K) [text/plain]\n",
            "Saving to: ‘car_fuel_efficiency.csv’\n",
            "\n",
            "car_fuel_efficiency 100%[===================>] 853.70K  --.-KB/s    in 0.007s  \n",
            "\n",
            "2025-09-29 11:39:21 (126 MB/s) - ‘car_fuel_efficiency.csv’ saved [874188/874188]\n",
            "\n"
          ]
        }
      ]
    },
    {
      "cell_type": "code",
      "source": [
        "data_frame = pd.read_csv(\"car_fuel_efficiency.csv\")"
      ],
      "metadata": {
        "id": "x4_WoUVzDdeU"
      },
      "execution_count": 5,
      "outputs": []
    },
    {
      "cell_type": "markdown",
      "source": [
        "\n",
        "**Q2. Records count**\n",
        "\n",
        "How many records are in the dataset?\n",
        "\n",
        "- 4704\n",
        "- 8704\n",
        "- 9704\n",
        "- 17704"
      ],
      "metadata": {
        "id": "4A6ccWEnD3GL"
      }
    },
    {
      "cell_type": "code",
      "source": [
        "num_records = data_frame.shape[0]\n",
        "num_records"
      ],
      "metadata": {
        "colab": {
          "base_uri": "https://localhost:8080/"
        },
        "id": "CoD80oN7D8wp",
        "outputId": "27062313-b48a-4791-9744-c878b79a3e82"
      },
      "execution_count": 6,
      "outputs": [
        {
          "output_type": "execute_result",
          "data": {
            "text/plain": [
              "9704"
            ]
          },
          "metadata": {},
          "execution_count": 6
        }
      ]
    },
    {
      "cell_type": "markdown",
      "source": [
        "**Q3. Fuel types**\n",
        "\n",
        "How many fuel types are presented in the dataset?\n",
        "\n",
        "- 1\n",
        "- 2\n",
        "- 3\n",
        "- 4"
      ],
      "metadata": {
        "id": "Eug6-DYXEhdG"
      }
    },
    {
      "cell_type": "code",
      "source": [
        "fuel_type = data_frame['fuel_type'].nunique()\n",
        "print(fuel_type)"
      ],
      "metadata": {
        "colab": {
          "base_uri": "https://localhost:8080/"
        },
        "id": "lG-5EehMEMWx",
        "outputId": "77b9cbff-2145-417d-abd0-d7f68cde60a8"
      },
      "execution_count": 7,
      "outputs": [
        {
          "output_type": "stream",
          "name": "stdout",
          "text": [
            "2\n"
          ]
        }
      ]
    },
    {
      "cell_type": "markdown",
      "source": [
        "**Q4. Missing values**\n",
        "\n",
        "How many columns in the dataset have missing values?\n",
        "\n",
        "- 0\n",
        "- 1\n",
        "- 2\n",
        "- 3\n",
        "- 4"
      ],
      "metadata": {
        "id": "GtyvZehCEo6b"
      }
    },
    {
      "cell_type": "code",
      "source": [
        "missing_values = data_frame.isnull().sum()\n",
        "print(missing_values)"
      ],
      "metadata": {
        "colab": {
          "base_uri": "https://localhost:8080/"
        },
        "id": "tR8cffoiEqx7",
        "outputId": "e8428779-0a2d-435b-d864-5dd4b7d75f72"
      },
      "execution_count": 8,
      "outputs": [
        {
          "output_type": "stream",
          "name": "stdout",
          "text": [
            "engine_displacement      0\n",
            "num_cylinders          482\n",
            "horsepower             708\n",
            "vehicle_weight           0\n",
            "acceleration           930\n",
            "model_year               0\n",
            "origin                   0\n",
            "fuel_type                0\n",
            "drivetrain               0\n",
            "num_doors              502\n",
            "fuel_efficiency_mpg      0\n",
            "dtype: int64\n"
          ]
        }
      ]
    },
    {
      "cell_type": "markdown",
      "source": [
        "**Q5. Max fuel efficiency**\n",
        "\n",
        "What's the maximum fuel efficiency of cars from Asia?\n",
        "\n",
        "- 13.75\n",
        "- 23.75\n",
        "- 33.75\n",
        "- 43.75"
      ],
      "metadata": {
        "id": "Mas5836YGH5l"
      }
    },
    {
      "cell_type": "code",
      "source": [
        "Asian_cars = data_frame[data_frame['origin'] == 'Asia']\n",
        "\n",
        "max_fuel_efficiency = Asian_cars['fuel_efficiency_mpg'].max()\n",
        "print(round(max_fuel_efficiency, 2))"
      ],
      "metadata": {
        "colab": {
          "base_uri": "https://localhost:8080/"
        },
        "id": "r_HvEIelGKsg",
        "outputId": "25fe7eb1-d3e2-47c3-a3f4-769c4800039d"
      },
      "execution_count": 9,
      "outputs": [
        {
          "output_type": "stream",
          "name": "stdout",
          "text": [
            "23.76\n"
          ]
        }
      ]
    },
    {
      "cell_type": "markdown",
      "source": [
        "**Q6. Median value of horsepower**\n",
        "\n",
        "\n",
        "\n",
        "1. Find the median value of `horsepower` column in the dataset.\n",
        "2. Next, calculate the most frequent value of the same `horsepower` column.\n",
        "3. Use `fillna` method to fill the missing values in `horsepower` column with the most frequent value from the previous step.\n",
        "4. Now, calculate the median value of `horsepower` once again.\n",
        "\n",
        "Has it changed?\n",
        "\n",
        "\n",
        "- Yes, it increased\n",
        "- Yes, it decreased\n",
        "- No"
      ],
      "metadata": {
        "id": "4XV__hjEH_oH"
      }
    },
    {
      "cell_type": "code",
      "source": [
        "#1. Find the median value of `horsepower` column in the dataset.\n",
        "\n",
        "median_val = data_frame['horsepower'].median()\n",
        "print(median_val)\n",
        "\n",
        "#2. Next, calculate the most frequent value of the same `horsepower` column.\n",
        "\n",
        "most_frequent_value = data_frame['horsepower'].mode()[0]\n",
        "print(most_frequent_value)"
      ],
      "metadata": {
        "colab": {
          "base_uri": "https://localhost:8080/"
        },
        "id": "onKndPr8H_Gm",
        "outputId": "b9be22f0-f2d3-4844-b4a5-0fb4963aa563"
      },
      "execution_count": 11,
      "outputs": [
        {
          "output_type": "stream",
          "name": "stdout",
          "text": [
            "149.0\n",
            "152.0\n"
          ]
        }
      ]
    },
    {
      "cell_type": "code",
      "source": [
        "#3. Use `fillna` method to fill the missing values in `horsepower` column with the most frequent value from the previous step.\n",
        "\n",
        "data_frame['horsepower'] = data_frame['horsepower'].fillna(most_frequent_value)"
      ],
      "metadata": {
        "id": "yJEzJkFeJVNe"
      },
      "execution_count": 12,
      "outputs": []
    },
    {
      "cell_type": "code",
      "source": [
        "print(data_frame['horsepower'].isnull().sum())"
      ],
      "metadata": {
        "colab": {
          "base_uri": "https://localhost:8080/"
        },
        "id": "jdYLrFTeJp7Q",
        "outputId": "211924da-7ec6-4227-83df-038269c911e5"
      },
      "execution_count": 14,
      "outputs": [
        {
          "output_type": "stream",
          "name": "stdout",
          "text": [
            "0\n"
          ]
        }
      ]
    },
    {
      "cell_type": "code",
      "source": [
        "#4. Now, calculate the median value of `horsepower` once again.\n",
        "\n",
        "median_value_after_filling = data_frame['horsepower'].median()\n",
        "print(median_value_after_filling)\n",
        "\n",
        "if (median_val == median_value_after_filling):\n",
        "  print(\"No, it hasn't changed\")\n",
        "else:\n",
        "  print(\"Yes, it has changed\")\n"
      ],
      "metadata": {
        "colab": {
          "base_uri": "https://localhost:8080/"
        },
        "id": "Xp8pVIMOJ4yU",
        "outputId": "f4590779-38fe-4a00-89c2-09a11461d0f0"
      },
      "execution_count": 15,
      "outputs": [
        {
          "output_type": "stream",
          "name": "stdout",
          "text": [
            "152.0\n",
            "Yes, it has changed\n"
          ]
        }
      ]
    },
    {
      "cell_type": "markdown",
      "source": [
        "**Q7. Sum of weights**\n",
        "\n",
        "1. Select all the cars from Asia\n",
        "2. Select only columns `vehicle_weight` and `model_year`\n",
        "3. Select the first 7 values\n",
        "4. Get the underlying NumPy array. Let's call it `X`.\n",
        "5. Compute matrix-matrix multiplication between the transpose of `X` and `X`. To get the transpose, use `X.T`. Let's call the result `XTX`.\n",
        "6. Invert `XTX`.\n",
        "7. Create an array `y` with values `[1100, 1300, 800, 900, 1000, 1100, 1200]`.\n",
        "8. Multiply the inverse of `XTX` with the transpose of `X`, and then multiply the result by `y`. Call the result `w`.\n",
        "9. What's the sum of all the elements of the result?\n",
        "\n",
        "> **Note**: You just implemented linear regression. We'll talk about it in the next lesson.\n",
        "\n",
        "- 0.051\n",
        "- 0.51\n",
        "- 5.1\n",
        "- 51\n"
      ],
      "metadata": {
        "id": "QI0IJX7xKr9U"
      }
    },
    {
      "cell_type": "code",
      "source": [
        "#1. Select all the cars from Asia\n",
        "\n",
        "asian_cars = data_frame[data_frame['origin'] == 'Asia']\n",
        "\n",
        "#2. Select only columns vehicle_weight and model_year\n",
        "\n",
        "df_selected = asian_cars[['vehicle_weight', 'model_year']]\n",
        "\n",
        "#3. Select the first 7 values\n",
        "\n",
        "df_selected = df_selected.head(7)\n",
        "print(df_selected)"
      ],
      "metadata": {
        "colab": {
          "base_uri": "https://localhost:8080/"
        },
        "id": "H2oK_QW_Kug1",
        "outputId": "88ad4e01-0589-4c1d-ab6d-aee76056c1db"
      },
      "execution_count": 17,
      "outputs": [
        {
          "output_type": "stream",
          "name": "stdout",
          "text": [
            "    vehicle_weight  model_year\n",
            "8      2714.219310        2016\n",
            "12     2783.868974        2010\n",
            "14     3582.687368        2007\n",
            "20     2231.808142        2011\n",
            "21     2659.431451        2016\n",
            "34     2844.227534        2014\n",
            "38     3761.994038        2019\n"
          ]
        }
      ]
    },
    {
      "cell_type": "code",
      "source": [
        "#4. Get the underlying NumPy array. Let's call it X.\n",
        "\n",
        "X = df_selected.to_numpy()\n",
        "print(X)\n"
      ],
      "metadata": {
        "colab": {
          "base_uri": "https://localhost:8080/"
        },
        "id": "O6yXwQLQLm4L",
        "outputId": "08adc18d-7111-4074-fa1b-6f022408daea"
      },
      "execution_count": 18,
      "outputs": [
        {
          "output_type": "stream",
          "name": "stdout",
          "text": [
            "[[2714.21930965 2016.        ]\n",
            " [2783.86897424 2010.        ]\n",
            " [3582.68736772 2007.        ]\n",
            " [2231.8081416  2011.        ]\n",
            " [2659.43145076 2016.        ]\n",
            " [2844.22753389 2014.        ]\n",
            " [3761.99403819 2019.        ]]\n"
          ]
        }
      ]
    },
    {
      "cell_type": "code",
      "source": [
        "#5. Compute matrix-matrix multiplication between the transpose of X and X. To get the transpose, use X.T. Let's call the result XTX.\n",
        "\n",
        "XTX = np.dot(X.T, X)\n",
        "print(XTX)"
      ],
      "metadata": {
        "colab": {
          "base_uri": "https://localhost:8080/"
        },
        "id": "4nhYZAZoLtoz",
        "outputId": "b0e9d898-87ef-45cd-e5c8-98253121fb7a"
      },
      "execution_count": 19,
      "outputs": [
        {
          "output_type": "stream",
          "name": "stdout",
          "text": [
            "[[62248334.33150762 41431216.5073268 ]\n",
            " [41431216.5073268  28373339.        ]]\n"
          ]
        }
      ]
    },
    {
      "cell_type": "code",
      "source": [
        "#6. Invert XTX.\n",
        "\n",
        "XTX_inverse = np.linalg.inv(XTX)\n",
        "print(XTX_inverse)"
      ],
      "metadata": {
        "colab": {
          "base_uri": "https://localhost:8080/"
        },
        "id": "IqlPZfLAMYQH",
        "outputId": "77dceb94-f62d-4748-ecdb-9d6ef7c99b47"
      },
      "execution_count": 20,
      "outputs": [
        {
          "output_type": "stream",
          "name": "stdout",
          "text": [
            "[[ 5.71497081e-07 -8.34509443e-07]\n",
            " [-8.34509443e-07  1.25380877e-06]]\n"
          ]
        }
      ]
    },
    {
      "cell_type": "code",
      "source": [
        "#7. Create an array y with values [1100, 1300, 800, 900, 1000, 1100, 1200].\n",
        "\n",
        "y = np.array([1100, 1300, 800, 900, 1000, 1100, 1200])\n",
        "print(y)"
      ],
      "metadata": {
        "colab": {
          "base_uri": "https://localhost:8080/"
        },
        "id": "dhfc9qpZMifV",
        "outputId": "a4d33c45-6ec1-47f3-f127-875e36fe0871"
      },
      "execution_count": 21,
      "outputs": [
        {
          "output_type": "stream",
          "name": "stdout",
          "text": [
            "[1100 1300  800  900 1000 1100 1200]\n"
          ]
        }
      ]
    },
    {
      "cell_type": "code",
      "source": [
        "#8. Multiply the inverse of XTX with the transpose of X, and then multiply the result by y. Call the result w.\n",
        "\n",
        "w = np.dot(np.dot(XTX_inverse, X.T), y)\n",
        "print(w)"
      ],
      "metadata": {
        "colab": {
          "base_uri": "https://localhost:8080/"
        },
        "id": "Hu7v4BgpMuMi",
        "outputId": "96d1ff5c-9183-46ac-a35a-bcb5c66c2e73"
      },
      "execution_count": 22,
      "outputs": [
        {
          "output_type": "stream",
          "name": "stdout",
          "text": [
            "[0.01386421 0.5049067 ]\n"
          ]
        }
      ]
    },
    {
      "cell_type": "code",
      "source": [
        "#9. What's the sum of all the elements of the result?\n",
        "\n",
        "sum_of_elements = np.sum(w)\n",
        "print(round(sum_of_elements,2))"
      ],
      "metadata": {
        "colab": {
          "base_uri": "https://localhost:8080/"
        },
        "id": "8pyX0UDRMuTl",
        "outputId": "56a7b682-6d93-4928-a3b0-7d1eca90cd15"
      },
      "execution_count": 23,
      "outputs": [
        {
          "output_type": "stream",
          "name": "stdout",
          "text": [
            "0.52\n"
          ]
        }
      ]
    }
  ]
}