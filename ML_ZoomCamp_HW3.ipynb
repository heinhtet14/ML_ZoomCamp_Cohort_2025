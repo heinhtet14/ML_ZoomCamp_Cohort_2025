{
  "cells": [
    {
      "cell_type": "markdown",
      "metadata": {
        "id": "view-in-github",
        "colab_type": "text"
      },
      "source": [
        "<a href=\"https://colab.research.google.com/github/heinhtet14/ML_ZoomCamp_Cohort_2025/blob/main/ML_ZoomCamp_HW3.ipynb\" target=\"_parent\"><img src=\"https://colab.research.google.com/assets/colab-badge.svg\" alt=\"Open In Colab\"/></a>"
      ]
    },
    {
      "cell_type": "markdown",
      "metadata": {
        "_sphinx_cell_id": "25cacf59-0cbf-4988-97c3-aadc9625462c",
        "id": "H261RvNjjmTX"
      },
      "source": [
        "# Data Preparation"
      ]
    },
    {
      "cell_type": "code",
      "execution_count": 22,
      "metadata": {
        "_sphinx_cell_id": "1a29023b-01a2-4c81-8be6-c4ad341e1d62",
        "id": "OWymAHtNjmTa"
      },
      "outputs": [],
      "source": [
        "import numpy as np\n",
        "import pandas as pd\n",
        "import seaborn as sns\n",
        "from matplotlib import pyplot as plt"
      ]
    },
    {
      "cell_type": "markdown",
      "source": [
        "### Question 1\n",
        "\n",
        "What is the most frequent observation (mode) for the column `industry`?\n",
        "\n",
        "- `NA`\n",
        "- `technology`\n",
        "- `healthcare`\n",
        "- `retail`"
      ],
      "metadata": {
        "id": "duLft5tNkfW9"
      }
    },
    {
      "cell_type": "code",
      "execution_count": 23,
      "metadata": {
        "_sphinx_cell_id": "bf15211d-9695-44ae-98eb-9b298e01875f",
        "id": "k_7a6zrRjmTc"
      },
      "outputs": [],
      "source": [
        "df = pd.read_csv('https://raw.githubusercontent.com/alexeygrigorev/datasets/master/course_lead_scoring.csv')"
      ]
    },
    {
      "cell_type": "code",
      "execution_count": 24,
      "metadata": {
        "_sphinx_cell_id": "fadd9250-16e0-497f-9b9e-11db7dd82ed3",
        "colab": {
          "base_uri": "https://localhost:8080/",
          "height": 206
        },
        "id": "0iU-iTohjmTc",
        "outputId": "74cbe6ba-e9e6-4658-c192-66f3fa5ef8f8"
      },
      "outputs": [
        {
          "output_type": "execute_result",
          "data": {
            "text/plain": [
              "    lead_source    industry  number_of_courses_viewed  annual_income  \\\n",
              "0      paid_ads         NaN                         1        79450.0   \n",
              "1  social_media      retail                         1        46992.0   \n",
              "2        events  healthcare                         5        78796.0   \n",
              "3      paid_ads      retail                         2        83843.0   \n",
              "4      referral   education                         3        85012.0   \n",
              "\n",
              "  employment_status       location  interaction_count  lead_score  converted  \n",
              "0        unemployed  south_america                  4        0.94          1  \n",
              "1          employed  south_america                  1        0.80          0  \n",
              "2        unemployed      australia                  3        0.69          1  \n",
              "3               NaN      australia                  1        0.87          0  \n",
              "4     self_employed         europe                  3        0.62          1  "
            ],
            "text/html": [
              "\n",
              "  <div id=\"df-6df4595f-0413-4ecf-ad32-fb0116c2db90\" class=\"colab-df-container\">\n",
              "    <div>\n",
              "<style scoped>\n",
              "    .dataframe tbody tr th:only-of-type {\n",
              "        vertical-align: middle;\n",
              "    }\n",
              "\n",
              "    .dataframe tbody tr th {\n",
              "        vertical-align: top;\n",
              "    }\n",
              "\n",
              "    .dataframe thead th {\n",
              "        text-align: right;\n",
              "    }\n",
              "</style>\n",
              "<table border=\"1\" class=\"dataframe\">\n",
              "  <thead>\n",
              "    <tr style=\"text-align: right;\">\n",
              "      <th></th>\n",
              "      <th>lead_source</th>\n",
              "      <th>industry</th>\n",
              "      <th>number_of_courses_viewed</th>\n",
              "      <th>annual_income</th>\n",
              "      <th>employment_status</th>\n",
              "      <th>location</th>\n",
              "      <th>interaction_count</th>\n",
              "      <th>lead_score</th>\n",
              "      <th>converted</th>\n",
              "    </tr>\n",
              "  </thead>\n",
              "  <tbody>\n",
              "    <tr>\n",
              "      <th>0</th>\n",
              "      <td>paid_ads</td>\n",
              "      <td>NaN</td>\n",
              "      <td>1</td>\n",
              "      <td>79450.0</td>\n",
              "      <td>unemployed</td>\n",
              "      <td>south_america</td>\n",
              "      <td>4</td>\n",
              "      <td>0.94</td>\n",
              "      <td>1</td>\n",
              "    </tr>\n",
              "    <tr>\n",
              "      <th>1</th>\n",
              "      <td>social_media</td>\n",
              "      <td>retail</td>\n",
              "      <td>1</td>\n",
              "      <td>46992.0</td>\n",
              "      <td>employed</td>\n",
              "      <td>south_america</td>\n",
              "      <td>1</td>\n",
              "      <td>0.80</td>\n",
              "      <td>0</td>\n",
              "    </tr>\n",
              "    <tr>\n",
              "      <th>2</th>\n",
              "      <td>events</td>\n",
              "      <td>healthcare</td>\n",
              "      <td>5</td>\n",
              "      <td>78796.0</td>\n",
              "      <td>unemployed</td>\n",
              "      <td>australia</td>\n",
              "      <td>3</td>\n",
              "      <td>0.69</td>\n",
              "      <td>1</td>\n",
              "    </tr>\n",
              "    <tr>\n",
              "      <th>3</th>\n",
              "      <td>paid_ads</td>\n",
              "      <td>retail</td>\n",
              "      <td>2</td>\n",
              "      <td>83843.0</td>\n",
              "      <td>NaN</td>\n",
              "      <td>australia</td>\n",
              "      <td>1</td>\n",
              "      <td>0.87</td>\n",
              "      <td>0</td>\n",
              "    </tr>\n",
              "    <tr>\n",
              "      <th>4</th>\n",
              "      <td>referral</td>\n",
              "      <td>education</td>\n",
              "      <td>3</td>\n",
              "      <td>85012.0</td>\n",
              "      <td>self_employed</td>\n",
              "      <td>europe</td>\n",
              "      <td>3</td>\n",
              "      <td>0.62</td>\n",
              "      <td>1</td>\n",
              "    </tr>\n",
              "  </tbody>\n",
              "</table>\n",
              "</div>\n",
              "    <div class=\"colab-df-buttons\">\n",
              "\n",
              "  <div class=\"colab-df-container\">\n",
              "    <button class=\"colab-df-convert\" onclick=\"convertToInteractive('df-6df4595f-0413-4ecf-ad32-fb0116c2db90')\"\n",
              "            title=\"Convert this dataframe to an interactive table.\"\n",
              "            style=\"display:none;\">\n",
              "\n",
              "  <svg xmlns=\"http://www.w3.org/2000/svg\" height=\"24px\" viewBox=\"0 -960 960 960\">\n",
              "    <path d=\"M120-120v-720h720v720H120Zm60-500h600v-160H180v160Zm220 220h160v-160H400v160Zm0 220h160v-160H400v160ZM180-400h160v-160H180v160Zm440 0h160v-160H620v160ZM180-180h160v-160H180v160Zm440 0h160v-160H620v160Z\"/>\n",
              "  </svg>\n",
              "    </button>\n",
              "\n",
              "  <style>\n",
              "    .colab-df-container {\n",
              "      display:flex;\n",
              "      gap: 12px;\n",
              "    }\n",
              "\n",
              "    .colab-df-convert {\n",
              "      background-color: #E8F0FE;\n",
              "      border: none;\n",
              "      border-radius: 50%;\n",
              "      cursor: pointer;\n",
              "      display: none;\n",
              "      fill: #1967D2;\n",
              "      height: 32px;\n",
              "      padding: 0 0 0 0;\n",
              "      width: 32px;\n",
              "    }\n",
              "\n",
              "    .colab-df-convert:hover {\n",
              "      background-color: #E2EBFA;\n",
              "      box-shadow: 0px 1px 2px rgba(60, 64, 67, 0.3), 0px 1px 3px 1px rgba(60, 64, 67, 0.15);\n",
              "      fill: #174EA6;\n",
              "    }\n",
              "\n",
              "    .colab-df-buttons div {\n",
              "      margin-bottom: 4px;\n",
              "    }\n",
              "\n",
              "    [theme=dark] .colab-df-convert {\n",
              "      background-color: #3B4455;\n",
              "      fill: #D2E3FC;\n",
              "    }\n",
              "\n",
              "    [theme=dark] .colab-df-convert:hover {\n",
              "      background-color: #434B5C;\n",
              "      box-shadow: 0px 1px 3px 1px rgba(0, 0, 0, 0.15);\n",
              "      filter: drop-shadow(0px 1px 2px rgba(0, 0, 0, 0.3));\n",
              "      fill: #FFFFFF;\n",
              "    }\n",
              "  </style>\n",
              "\n",
              "    <script>\n",
              "      const buttonEl =\n",
              "        document.querySelector('#df-6df4595f-0413-4ecf-ad32-fb0116c2db90 button.colab-df-convert');\n",
              "      buttonEl.style.display =\n",
              "        google.colab.kernel.accessAllowed ? 'block' : 'none';\n",
              "\n",
              "      async function convertToInteractive(key) {\n",
              "        const element = document.querySelector('#df-6df4595f-0413-4ecf-ad32-fb0116c2db90');\n",
              "        const dataTable =\n",
              "          await google.colab.kernel.invokeFunction('convertToInteractive',\n",
              "                                                    [key], {});\n",
              "        if (!dataTable) return;\n",
              "\n",
              "        const docLinkHtml = 'Like what you see? Visit the ' +\n",
              "          '<a target=\"_blank\" href=https://colab.research.google.com/notebooks/data_table.ipynb>data table notebook</a>'\n",
              "          + ' to learn more about interactive tables.';\n",
              "        element.innerHTML = '';\n",
              "        dataTable['output_type'] = 'display_data';\n",
              "        await google.colab.output.renderOutput(dataTable, element);\n",
              "        const docLink = document.createElement('div');\n",
              "        docLink.innerHTML = docLinkHtml;\n",
              "        element.appendChild(docLink);\n",
              "      }\n",
              "    </script>\n",
              "  </div>\n",
              "\n",
              "\n",
              "    <div id=\"df-17d5d1e7-5bfa-4d4d-94b5-35269e7abedf\">\n",
              "      <button class=\"colab-df-quickchart\" onclick=\"quickchart('df-17d5d1e7-5bfa-4d4d-94b5-35269e7abedf')\"\n",
              "                title=\"Suggest charts\"\n",
              "                style=\"display:none;\">\n",
              "\n",
              "<svg xmlns=\"http://www.w3.org/2000/svg\" height=\"24px\"viewBox=\"0 0 24 24\"\n",
              "     width=\"24px\">\n",
              "    <g>\n",
              "        <path d=\"M19 3H5c-1.1 0-2 .9-2 2v14c0 1.1.9 2 2 2h14c1.1 0 2-.9 2-2V5c0-1.1-.9-2-2-2zM9 17H7v-7h2v7zm4 0h-2V7h2v10zm4 0h-2v-4h2v4z\"/>\n",
              "    </g>\n",
              "</svg>\n",
              "      </button>\n",
              "\n",
              "<style>\n",
              "  .colab-df-quickchart {\n",
              "      --bg-color: #E8F0FE;\n",
              "      --fill-color: #1967D2;\n",
              "      --hover-bg-color: #E2EBFA;\n",
              "      --hover-fill-color: #174EA6;\n",
              "      --disabled-fill-color: #AAA;\n",
              "      --disabled-bg-color: #DDD;\n",
              "  }\n",
              "\n",
              "  [theme=dark] .colab-df-quickchart {\n",
              "      --bg-color: #3B4455;\n",
              "      --fill-color: #D2E3FC;\n",
              "      --hover-bg-color: #434B5C;\n",
              "      --hover-fill-color: #FFFFFF;\n",
              "      --disabled-bg-color: #3B4455;\n",
              "      --disabled-fill-color: #666;\n",
              "  }\n",
              "\n",
              "  .colab-df-quickchart {\n",
              "    background-color: var(--bg-color);\n",
              "    border: none;\n",
              "    border-radius: 50%;\n",
              "    cursor: pointer;\n",
              "    display: none;\n",
              "    fill: var(--fill-color);\n",
              "    height: 32px;\n",
              "    padding: 0;\n",
              "    width: 32px;\n",
              "  }\n",
              "\n",
              "  .colab-df-quickchart:hover {\n",
              "    background-color: var(--hover-bg-color);\n",
              "    box-shadow: 0 1px 2px rgba(60, 64, 67, 0.3), 0 1px 3px 1px rgba(60, 64, 67, 0.15);\n",
              "    fill: var(--button-hover-fill-color);\n",
              "  }\n",
              "\n",
              "  .colab-df-quickchart-complete:disabled,\n",
              "  .colab-df-quickchart-complete:disabled:hover {\n",
              "    background-color: var(--disabled-bg-color);\n",
              "    fill: var(--disabled-fill-color);\n",
              "    box-shadow: none;\n",
              "  }\n",
              "\n",
              "  .colab-df-spinner {\n",
              "    border: 2px solid var(--fill-color);\n",
              "    border-color: transparent;\n",
              "    border-bottom-color: var(--fill-color);\n",
              "    animation:\n",
              "      spin 1s steps(1) infinite;\n",
              "  }\n",
              "\n",
              "  @keyframes spin {\n",
              "    0% {\n",
              "      border-color: transparent;\n",
              "      border-bottom-color: var(--fill-color);\n",
              "      border-left-color: var(--fill-color);\n",
              "    }\n",
              "    20% {\n",
              "      border-color: transparent;\n",
              "      border-left-color: var(--fill-color);\n",
              "      border-top-color: var(--fill-color);\n",
              "    }\n",
              "    30% {\n",
              "      border-color: transparent;\n",
              "      border-left-color: var(--fill-color);\n",
              "      border-top-color: var(--fill-color);\n",
              "      border-right-color: var(--fill-color);\n",
              "    }\n",
              "    40% {\n",
              "      border-color: transparent;\n",
              "      border-right-color: var(--fill-color);\n",
              "      border-top-color: var(--fill-color);\n",
              "    }\n",
              "    60% {\n",
              "      border-color: transparent;\n",
              "      border-right-color: var(--fill-color);\n",
              "    }\n",
              "    80% {\n",
              "      border-color: transparent;\n",
              "      border-right-color: var(--fill-color);\n",
              "      border-bottom-color: var(--fill-color);\n",
              "    }\n",
              "    90% {\n",
              "      border-color: transparent;\n",
              "      border-bottom-color: var(--fill-color);\n",
              "    }\n",
              "  }\n",
              "</style>\n",
              "\n",
              "      <script>\n",
              "        async function quickchart(key) {\n",
              "          const quickchartButtonEl =\n",
              "            document.querySelector('#' + key + ' button');\n",
              "          quickchartButtonEl.disabled = true;  // To prevent multiple clicks.\n",
              "          quickchartButtonEl.classList.add('colab-df-spinner');\n",
              "          try {\n",
              "            const charts = await google.colab.kernel.invokeFunction(\n",
              "                'suggestCharts', [key], {});\n",
              "          } catch (error) {\n",
              "            console.error('Error during call to suggestCharts:', error);\n",
              "          }\n",
              "          quickchartButtonEl.classList.remove('colab-df-spinner');\n",
              "          quickchartButtonEl.classList.add('colab-df-quickchart-complete');\n",
              "        }\n",
              "        (() => {\n",
              "          let quickchartButtonEl =\n",
              "            document.querySelector('#df-17d5d1e7-5bfa-4d4d-94b5-35269e7abedf button');\n",
              "          quickchartButtonEl.style.display =\n",
              "            google.colab.kernel.accessAllowed ? 'block' : 'none';\n",
              "        })();\n",
              "      </script>\n",
              "    </div>\n",
              "\n",
              "    </div>\n",
              "  </div>\n"
            ],
            "application/vnd.google.colaboratory.intrinsic+json": {
              "type": "dataframe",
              "variable_name": "df",
              "summary": "{\n  \"name\": \"df\",\n  \"rows\": 1462,\n  \"fields\": [\n    {\n      \"column\": \"lead_source\",\n      \"properties\": {\n        \"dtype\": \"category\",\n        \"num_unique_values\": 5,\n        \"samples\": [\n          \"social_media\",\n          \"organic_search\",\n          \"events\"\n        ],\n        \"semantic_type\": \"\",\n        \"description\": \"\"\n      }\n    },\n    {\n      \"column\": \"industry\",\n      \"properties\": {\n        \"dtype\": \"category\",\n        \"num_unique_values\": 7,\n        \"samples\": [\n          \"retail\",\n          \"healthcare\",\n          \"other\"\n        ],\n        \"semantic_type\": \"\",\n        \"description\": \"\"\n      }\n    },\n    {\n      \"column\": \"number_of_courses_viewed\",\n      \"properties\": {\n        \"dtype\": \"number\",\n        \"std\": 1,\n        \"min\": 0,\n        \"max\": 9,\n        \"num_unique_values\": 10,\n        \"samples\": [\n          7,\n          5,\n          4\n        ],\n        \"semantic_type\": \"\",\n        \"description\": \"\"\n      }\n    },\n    {\n      \"column\": \"annual_income\",\n      \"properties\": {\n        \"dtype\": \"number\",\n        \"std\": 15070.140389099402,\n        \"min\": 13929.0,\n        \"max\": 109899.0,\n        \"num_unique_values\": 1267,\n        \"samples\": [\n          35832.0,\n          99435.0,\n          53502.0\n        ],\n        \"semantic_type\": \"\",\n        \"description\": \"\"\n      }\n    },\n    {\n      \"column\": \"employment_status\",\n      \"properties\": {\n        \"dtype\": \"category\",\n        \"num_unique_values\": 4,\n        \"samples\": [\n          \"employed\",\n          \"student\",\n          \"unemployed\"\n        ],\n        \"semantic_type\": \"\",\n        \"description\": \"\"\n      }\n    },\n    {\n      \"column\": \"location\",\n      \"properties\": {\n        \"dtype\": \"category\",\n        \"num_unique_values\": 7,\n        \"samples\": [\n          \"south_america\",\n          \"australia\",\n          \"north_america\"\n        ],\n        \"semantic_type\": \"\",\n        \"description\": \"\"\n      }\n    },\n    {\n      \"column\": \"interaction_count\",\n      \"properties\": {\n        \"dtype\": \"number\",\n        \"std\": 1,\n        \"min\": 0,\n        \"max\": 11,\n        \"num_unique_values\": 12,\n        \"samples\": [\n          10,\n          8,\n          4\n        ],\n        \"semantic_type\": \"\",\n        \"description\": \"\"\n      }\n    },\n    {\n      \"column\": \"lead_score\",\n      \"properties\": {\n        \"dtype\": \"number\",\n        \"std\": 0.28846540429698403,\n        \"min\": 0.0,\n        \"max\": 1.0,\n        \"num_unique_values\": 101,\n        \"samples\": [\n          0.09,\n          0.72,\n          0.58\n        ],\n        \"semantic_type\": \"\",\n        \"description\": \"\"\n      }\n    },\n    {\n      \"column\": \"converted\",\n      \"properties\": {\n        \"dtype\": \"number\",\n        \"std\": 0,\n        \"min\": 0,\n        \"max\": 1,\n        \"num_unique_values\": 2,\n        \"samples\": [\n          0,\n          1\n        ],\n        \"semantic_type\": \"\",\n        \"description\": \"\"\n      }\n    }\n  ]\n}"
            }
          },
          "metadata": {},
          "execution_count": 24
        }
      ],
      "source": [
        "df.head()"
      ]
    },
    {
      "cell_type": "code",
      "execution_count": 25,
      "metadata": {
        "_sphinx_cell_id": "d3fae91f-84aa-40b2-9535-f9068420a8eb",
        "colab": {
          "base_uri": "https://localhost:8080/",
          "height": 366
        },
        "id": "hpfETxEUjmTe",
        "outputId": "9e5cd31c-968c-471a-8bde-da71e2f3ba64"
      },
      "outputs": [
        {
          "output_type": "execute_result",
          "data": {
            "text/plain": [
              "lead_source                  object\n",
              "industry                     object\n",
              "number_of_courses_viewed      int64\n",
              "annual_income               float64\n",
              "employment_status            object\n",
              "location                     object\n",
              "interaction_count             int64\n",
              "lead_score                  float64\n",
              "converted                     int64\n",
              "dtype: object"
            ],
            "text/html": [
              "<div>\n",
              "<style scoped>\n",
              "    .dataframe tbody tr th:only-of-type {\n",
              "        vertical-align: middle;\n",
              "    }\n",
              "\n",
              "    .dataframe tbody tr th {\n",
              "        vertical-align: top;\n",
              "    }\n",
              "\n",
              "    .dataframe thead th {\n",
              "        text-align: right;\n",
              "    }\n",
              "</style>\n",
              "<table border=\"1\" class=\"dataframe\">\n",
              "  <thead>\n",
              "    <tr style=\"text-align: right;\">\n",
              "      <th></th>\n",
              "      <th>0</th>\n",
              "    </tr>\n",
              "  </thead>\n",
              "  <tbody>\n",
              "    <tr>\n",
              "      <th>lead_source</th>\n",
              "      <td>object</td>\n",
              "    </tr>\n",
              "    <tr>\n",
              "      <th>industry</th>\n",
              "      <td>object</td>\n",
              "    </tr>\n",
              "    <tr>\n",
              "      <th>number_of_courses_viewed</th>\n",
              "      <td>int64</td>\n",
              "    </tr>\n",
              "    <tr>\n",
              "      <th>annual_income</th>\n",
              "      <td>float64</td>\n",
              "    </tr>\n",
              "    <tr>\n",
              "      <th>employment_status</th>\n",
              "      <td>object</td>\n",
              "    </tr>\n",
              "    <tr>\n",
              "      <th>location</th>\n",
              "      <td>object</td>\n",
              "    </tr>\n",
              "    <tr>\n",
              "      <th>interaction_count</th>\n",
              "      <td>int64</td>\n",
              "    </tr>\n",
              "    <tr>\n",
              "      <th>lead_score</th>\n",
              "      <td>float64</td>\n",
              "    </tr>\n",
              "    <tr>\n",
              "      <th>converted</th>\n",
              "      <td>int64</td>\n",
              "    </tr>\n",
              "  </tbody>\n",
              "</table>\n",
              "</div><br><label><b>dtype:</b> object</label>"
            ]
          },
          "metadata": {},
          "execution_count": 25
        }
      ],
      "source": [
        "df.dtypes"
      ]
    },
    {
      "cell_type": "code",
      "execution_count": 26,
      "metadata": {
        "_sphinx_cell_id": "24bf9dac-93c6-49d3-b41c-35f83a9efcfd",
        "colab": {
          "base_uri": "https://localhost:8080/",
          "height": 366
        },
        "id": "UV04bJZdjmTe",
        "outputId": "e039f0ae-a43c-4e41-faee-5d2b583a73e6"
      },
      "outputs": [
        {
          "output_type": "execute_result",
          "data": {
            "text/plain": [
              "lead_source                 128\n",
              "industry                    134\n",
              "number_of_courses_viewed      0\n",
              "annual_income               181\n",
              "employment_status           100\n",
              "location                     63\n",
              "interaction_count             0\n",
              "lead_score                    0\n",
              "converted                     0\n",
              "dtype: int64"
            ],
            "text/html": [
              "<div>\n",
              "<style scoped>\n",
              "    .dataframe tbody tr th:only-of-type {\n",
              "        vertical-align: middle;\n",
              "    }\n",
              "\n",
              "    .dataframe tbody tr th {\n",
              "        vertical-align: top;\n",
              "    }\n",
              "\n",
              "    .dataframe thead th {\n",
              "        text-align: right;\n",
              "    }\n",
              "</style>\n",
              "<table border=\"1\" class=\"dataframe\">\n",
              "  <thead>\n",
              "    <tr style=\"text-align: right;\">\n",
              "      <th></th>\n",
              "      <th>0</th>\n",
              "    </tr>\n",
              "  </thead>\n",
              "  <tbody>\n",
              "    <tr>\n",
              "      <th>lead_source</th>\n",
              "      <td>128</td>\n",
              "    </tr>\n",
              "    <tr>\n",
              "      <th>industry</th>\n",
              "      <td>134</td>\n",
              "    </tr>\n",
              "    <tr>\n",
              "      <th>number_of_courses_viewed</th>\n",
              "      <td>0</td>\n",
              "    </tr>\n",
              "    <tr>\n",
              "      <th>annual_income</th>\n",
              "      <td>181</td>\n",
              "    </tr>\n",
              "    <tr>\n",
              "      <th>employment_status</th>\n",
              "      <td>100</td>\n",
              "    </tr>\n",
              "    <tr>\n",
              "      <th>location</th>\n",
              "      <td>63</td>\n",
              "    </tr>\n",
              "    <tr>\n",
              "      <th>interaction_count</th>\n",
              "      <td>0</td>\n",
              "    </tr>\n",
              "    <tr>\n",
              "      <th>lead_score</th>\n",
              "      <td>0</td>\n",
              "    </tr>\n",
              "    <tr>\n",
              "      <th>converted</th>\n",
              "      <td>0</td>\n",
              "    </tr>\n",
              "  </tbody>\n",
              "</table>\n",
              "</div><br><label><b>dtype:</b> int64</label>"
            ]
          },
          "metadata": {},
          "execution_count": 26
        }
      ],
      "source": [
        "df.isna().sum()"
      ]
    },
    {
      "cell_type": "code",
      "execution_count": 27,
      "metadata": {
        "_sphinx_cell_id": "e098a2dc-ef6c-44cb-b167-e8213e59359d",
        "id": "AKBxtqTzjmTf"
      },
      "outputs": [],
      "source": [
        "categorical = df.select_dtypes(include='object').columns\n",
        "df[categorical] = df[categorical].fillna('na')\n"
      ]
    },
    {
      "cell_type": "code",
      "execution_count": 28,
      "metadata": {
        "_sphinx_cell_id": "f1797cf2-994e-4135-95cf-c2c627566a8d",
        "id": "wnqAt1PYjmTf"
      },
      "outputs": [],
      "source": [
        "numerical = df.select_dtypes(include=['int64', 'float64']).columns\n",
        "df[numerical] = df[numerical].fillna(0.0)"
      ]
    },
    {
      "cell_type": "code",
      "execution_count": 29,
      "metadata": {
        "_sphinx_cell_id": "8c775e9f-846b-49c8-9771-6e549a7636a7",
        "colab": {
          "base_uri": "https://localhost:8080/",
          "height": 366
        },
        "id": "4Wo734qEjmTg",
        "outputId": "79448310-d8f6-4efb-fc3c-8b88476e0ed9"
      },
      "outputs": [
        {
          "output_type": "execute_result",
          "data": {
            "text/plain": [
              "lead_source                 0\n",
              "industry                    0\n",
              "number_of_courses_viewed    0\n",
              "annual_income               0\n",
              "employment_status           0\n",
              "location                    0\n",
              "interaction_count           0\n",
              "lead_score                  0\n",
              "converted                   0\n",
              "dtype: int64"
            ],
            "text/html": [
              "<div>\n",
              "<style scoped>\n",
              "    .dataframe tbody tr th:only-of-type {\n",
              "        vertical-align: middle;\n",
              "    }\n",
              "\n",
              "    .dataframe tbody tr th {\n",
              "        vertical-align: top;\n",
              "    }\n",
              "\n",
              "    .dataframe thead th {\n",
              "        text-align: right;\n",
              "    }\n",
              "</style>\n",
              "<table border=\"1\" class=\"dataframe\">\n",
              "  <thead>\n",
              "    <tr style=\"text-align: right;\">\n",
              "      <th></th>\n",
              "      <th>0</th>\n",
              "    </tr>\n",
              "  </thead>\n",
              "  <tbody>\n",
              "    <tr>\n",
              "      <th>lead_source</th>\n",
              "      <td>0</td>\n",
              "    </tr>\n",
              "    <tr>\n",
              "      <th>industry</th>\n",
              "      <td>0</td>\n",
              "    </tr>\n",
              "    <tr>\n",
              "      <th>number_of_courses_viewed</th>\n",
              "      <td>0</td>\n",
              "    </tr>\n",
              "    <tr>\n",
              "      <th>annual_income</th>\n",
              "      <td>0</td>\n",
              "    </tr>\n",
              "    <tr>\n",
              "      <th>employment_status</th>\n",
              "      <td>0</td>\n",
              "    </tr>\n",
              "    <tr>\n",
              "      <th>location</th>\n",
              "      <td>0</td>\n",
              "    </tr>\n",
              "    <tr>\n",
              "      <th>interaction_count</th>\n",
              "      <td>0</td>\n",
              "    </tr>\n",
              "    <tr>\n",
              "      <th>lead_score</th>\n",
              "      <td>0</td>\n",
              "    </tr>\n",
              "    <tr>\n",
              "      <th>converted</th>\n",
              "      <td>0</td>\n",
              "    </tr>\n",
              "  </tbody>\n",
              "</table>\n",
              "</div><br><label><b>dtype:</b> int64</label>"
            ]
          },
          "metadata": {},
          "execution_count": 29
        }
      ],
      "source": [
        "df.isna().sum()"
      ]
    },
    {
      "cell_type": "code",
      "execution_count": 30,
      "metadata": {
        "_sphinx_cell_id": "7d6e463b-4de2-4060-9dfe-07d760a9684a",
        "colab": {
          "base_uri": "https://localhost:8080/",
          "height": 35
        },
        "id": "g0W6nhldjmTg",
        "outputId": "878fb0f8-59b2-4110-eaf0-8e21b6461533"
      },
      "outputs": [
        {
          "output_type": "execute_result",
          "data": {
            "text/plain": [
              "'retail'"
            ],
            "application/vnd.google.colaboratory.intrinsic+json": {
              "type": "string"
            }
          },
          "metadata": {},
          "execution_count": 30
        }
      ],
      "source": [
        "df['industry'].mode()[0]"
      ]
    },
    {
      "cell_type": "markdown",
      "metadata": {
        "_sphinx_cell_id": "117a5dd4-816b-424e-9c32-fa8b46058cad",
        "id": "q6XIV1vgjmTg"
      },
      "source": [
        "### Question 2\n",
        "\n",
        "Create the [correlation matrix](https://www.google.com/search?q=correlation+matrix) for the numerical features of your dataset.\n",
        "In a correlation matrix, you compute the correlation coefficient between every pair of features.\n",
        "\n",
        "What are the two features that have the biggest correlation?\n",
        "\n",
        "- `interaction_count` and `lead_score`\n",
        "- `number_of_courses_viewed` and `lead_score`\n",
        "- `number_of_courses_viewed` and `interaction_count`\n",
        "- `annual_income` and `interaction_count`\n",
        "\n",
        "Only consider the pairs above when answering this question.\n",
        "\n",
        "### Split the data\n",
        "\n",
        "- Split your data in train/val/test sets with 60%/20%/20% distribution.\n",
        "- Use Scikit-Learn for that (the `train_test_split` function) and set the seed to `42`.\n",
        "- Make sure that the target value `converted` is not in your dataframe."
      ]
    },
    {
      "cell_type": "code",
      "execution_count": 31,
      "metadata": {
        "_sphinx_cell_id": "dcf01add-0971-42eb-8f50-c82404b9f7d4",
        "colab": {
          "base_uri": "https://localhost:8080/",
          "height": 206
        },
        "id": "XAHHI4AMjmTh",
        "outputId": "4203f618-087e-4692-9d91-d3d44d709ea3"
      },
      "outputs": [
        {
          "output_type": "execute_result",
          "data": {
            "text/plain": [
              "<pandas.io.formats.style.Styler at 0x7b2d1de0fb90>"
            ],
            "text/html": [
              "<style type=\"text/css\">\n",
              "#T_1dc80_row0_col0, #T_1dc80_row1_col1, #T_1dc80_row2_col2, #T_1dc80_row3_col3, #T_1dc80_row4_col4 {\n",
              "  background-color: #f0f921;\n",
              "  color: #000000;\n",
              "}\n",
              "#T_1dc80_row0_col1, #T_1dc80_row0_col2, #T_1dc80_row0_col3, #T_1dc80_row1_col4, #T_1dc80_row2_col0 {\n",
              "  background-color: #0d0887;\n",
              "  color: #f1f1f1;\n",
              "}\n",
              "#T_1dc80_row0_col4 {\n",
              "  background-color: #b22b8f;\n",
              "  color: #f1f1f1;\n",
              "}\n",
              "#T_1dc80_row1_col0, #T_1dc80_row3_col2 {\n",
              "  background-color: #220690;\n",
              "  color: #f1f1f1;\n",
              "}\n",
              "#T_1dc80_row1_col2 {\n",
              "  background-color: #2a0593;\n",
              "  color: #f1f1f1;\n",
              "}\n",
              "#T_1dc80_row1_col3 {\n",
              "  background-color: #1b068d;\n",
              "  color: #f1f1f1;\n",
              "}\n",
              "#T_1dc80_row2_col1, #T_1dc80_row3_col0 {\n",
              "  background-color: #19068c;\n",
              "  color: #f1f1f1;\n",
              "}\n",
              "#T_1dc80_row2_col3 {\n",
              "  background-color: #16078a;\n",
              "  color: #f1f1f1;\n",
              "}\n",
              "#T_1dc80_row2_col4 {\n",
              "  background-color: #9d189d;\n",
              "  color: #f1f1f1;\n",
              "}\n",
              "#T_1dc80_row3_col1 {\n",
              "  background-color: #100788;\n",
              "  color: #f1f1f1;\n",
              "}\n",
              "#T_1dc80_row3_col4 {\n",
              "  background-color: #5502a4;\n",
              "  color: #f1f1f1;\n",
              "}\n",
              "#T_1dc80_row4_col0 {\n",
              "  background-color: #be3885;\n",
              "  color: #f1f1f1;\n",
              "}\n",
              "#T_1dc80_row4_col1 {\n",
              "  background-color: #280592;\n",
              "  color: #f1f1f1;\n",
              "}\n",
              "#T_1dc80_row4_col2 {\n",
              "  background-color: #ad2793;\n",
              "  color: #f1f1f1;\n",
              "}\n",
              "#T_1dc80_row4_col3 {\n",
              "  background-color: #6900a8;\n",
              "  color: #f1f1f1;\n",
              "}\n",
              "</style>\n",
              "<table id=\"T_1dc80\" class=\"dataframe\">\n",
              "  <thead>\n",
              "    <tr>\n",
              "      <th class=\"blank level0\" >&nbsp;</th>\n",
              "      <th id=\"T_1dc80_level0_col0\" class=\"col_heading level0 col0\" >number_of_courses_viewed</th>\n",
              "      <th id=\"T_1dc80_level0_col1\" class=\"col_heading level0 col1\" >annual_income</th>\n",
              "      <th id=\"T_1dc80_level0_col2\" class=\"col_heading level0 col2\" >interaction_count</th>\n",
              "      <th id=\"T_1dc80_level0_col3\" class=\"col_heading level0 col3\" >lead_score</th>\n",
              "      <th id=\"T_1dc80_level0_col4\" class=\"col_heading level0 col4\" >converted</th>\n",
              "    </tr>\n",
              "  </thead>\n",
              "  <tbody>\n",
              "    <tr>\n",
              "      <th id=\"T_1dc80_level0_row0\" class=\"row_heading level0 row0\" >number_of_courses_viewed</th>\n",
              "      <td id=\"T_1dc80_row0_col0\" class=\"data row0 col0\" >1.000000</td>\n",
              "      <td id=\"T_1dc80_row0_col1\" class=\"data row0 col1\" >0.009770</td>\n",
              "      <td id=\"T_1dc80_row0_col2\" class=\"data row0 col2\" >-0.023565</td>\n",
              "      <td id=\"T_1dc80_row0_col3\" class=\"data row0 col3\" >-0.004879</td>\n",
              "      <td id=\"T_1dc80_row0_col4\" class=\"data row0 col4\" >0.435914</td>\n",
              "    </tr>\n",
              "    <tr>\n",
              "      <th id=\"T_1dc80_level0_row1\" class=\"row_heading level0 row1\" >annual_income</th>\n",
              "      <td id=\"T_1dc80_row1_col0\" class=\"data row1 col0\" >0.009770</td>\n",
              "      <td id=\"T_1dc80_row1_col1\" class=\"data row1 col1\" >1.000000</td>\n",
              "      <td id=\"T_1dc80_row1_col2\" class=\"data row1 col2\" >0.027036</td>\n",
              "      <td id=\"T_1dc80_row1_col3\" class=\"data row1 col3\" >0.015610</td>\n",
              "      <td id=\"T_1dc80_row1_col4\" class=\"data row1 col4\" >0.053131</td>\n",
              "    </tr>\n",
              "    <tr>\n",
              "      <th id=\"T_1dc80_level0_row2\" class=\"row_heading level0 row2\" >interaction_count</th>\n",
              "      <td id=\"T_1dc80_row2_col0\" class=\"data row2 col0\" >-0.023565</td>\n",
              "      <td id=\"T_1dc80_row2_col1\" class=\"data row2 col1\" >0.027036</td>\n",
              "      <td id=\"T_1dc80_row2_col2\" class=\"data row2 col2\" >1.000000</td>\n",
              "      <td id=\"T_1dc80_row2_col3\" class=\"data row2 col3\" >0.009888</td>\n",
              "      <td id=\"T_1dc80_row2_col4\" class=\"data row2 col4\" >0.374573</td>\n",
              "    </tr>\n",
              "    <tr>\n",
              "      <th id=\"T_1dc80_level0_row3\" class=\"row_heading level0 row3\" >lead_score</th>\n",
              "      <td id=\"T_1dc80_row3_col0\" class=\"data row3 col0\" >-0.004879</td>\n",
              "      <td id=\"T_1dc80_row3_col1\" class=\"data row3 col1\" >0.015610</td>\n",
              "      <td id=\"T_1dc80_row3_col2\" class=\"data row3 col2\" >0.009888</td>\n",
              "      <td id=\"T_1dc80_row3_col3\" class=\"data row3 col3\" >1.000000</td>\n",
              "      <td id=\"T_1dc80_row3_col4\" class=\"data row3 col4\" >0.193673</td>\n",
              "    </tr>\n",
              "    <tr>\n",
              "      <th id=\"T_1dc80_level0_row4\" class=\"row_heading level0 row4\" >converted</th>\n",
              "      <td id=\"T_1dc80_row4_col0\" class=\"data row4 col0\" >0.435914</td>\n",
              "      <td id=\"T_1dc80_row4_col1\" class=\"data row4 col1\" >0.053131</td>\n",
              "      <td id=\"T_1dc80_row4_col2\" class=\"data row4 col2\" >0.374573</td>\n",
              "      <td id=\"T_1dc80_row4_col3\" class=\"data row4 col3\" >0.193673</td>\n",
              "      <td id=\"T_1dc80_row4_col4\" class=\"data row4 col4\" >1.000000</td>\n",
              "    </tr>\n",
              "  </tbody>\n",
              "</table>\n"
            ]
          },
          "metadata": {},
          "execution_count": 31
        }
      ],
      "source": [
        "corr_matrix = df[numerical].corr()\n",
        "corr_matrix.style.background_gradient(cmap='plasma')"
      ]
    },
    {
      "cell_type": "code",
      "execution_count": 32,
      "metadata": {
        "_sphinx_cell_id": "f64f754a-a462-4fdf-80e4-8020e3dfe9de",
        "colab": {
          "base_uri": "https://localhost:8080/"
        },
        "id": "O3hsrt2WjmTh",
        "outputId": "6dbd7d2a-cdb8-4d12-bf11-8250f73b8cb5"
      },
      "outputs": [
        {
          "output_type": "stream",
          "name": "stdout",
          "text": [
            "Correlation values for the specified pairs:\n",
            "  interaction_count and lead_score: 0.0099\n",
            "  number_of_courses_viewed and lead_score: -0.0049\n",
            "  number_of_courses_viewed and interaction_count: -0.0236\n",
            "  annual_income and interaction_count: 0.0270\n",
            "\n",
            "The two features with the biggest correlation among the specified pairs are: annual_income and interaction_count\n",
            "Correlation value: 0.02703647240481443\n"
          ]
        }
      ],
      "source": [
        "# Extract the relevant pairs and unstack\n",
        "corr_matrix_unstacked = corr_matrix.unstack()\n",
        "\n",
        "# Sort the pairs by absolute correlation value in descending order\n",
        "sorted_pairs = corr_matrix_unstacked.sort_values(key=abs, ascending=False)\n",
        "\n",
        "# Filter for the relevant pairs specified in the question, excluding self-correlations and duplicates\n",
        "relevant_pairs = [\n",
        "    (\"interaction_count\", \"lead_score\"),\n",
        "    (\"number_of_courses_viewed\", \"lead_score\"),\n",
        "    (\"number_of_courses_viewed\", \"interaction_count\"),\n",
        "    (\"annual_income\", \"interaction_count\")\n",
        "]\n",
        "\n",
        "print(\"Correlation values for the specified pairs:\")\n",
        "for feature1, feature2 in relevant_pairs:\n",
        "    try:\n",
        "        correlation_value = corr_matrix_unstacked.loc[feature1, feature2]\n",
        "        print(f\"  {feature1} and {feature2}: {correlation_value:.4f}\")\n",
        "    except KeyError:\n",
        "        # Handle cases where the pair might be in reverse order in the unstacked series\n",
        "        correlation_value = corr_matrix_unstacked.loc[feature2, feature1]\n",
        "        print(f\"  {feature1} and {feature2}: {correlation_value:.4f}\")\n",
        "\n",
        "# Find the pair with the biggest correlation among the relevant pairs\n",
        "relevant_correlations = {f\"{f1} and {f2}\": corr_matrix_unstacked.get((f1, f2), corr_matrix_unstacked.get((f2, f1)))\n",
        "                         for f1, f2 in relevant_pairs}\n",
        "\n",
        "highest_correlation_pair = max(relevant_correlations.items(), key=lambda x: abs(x[1]))\n",
        "\n",
        "print(\"\\nThe two features with the biggest correlation among the specified pairs are:\", highest_correlation_pair[0])\n",
        "print(\"Correlation value:\", highest_correlation_pair[1])"
      ]
    },
    {
      "cell_type": "code",
      "execution_count": 33,
      "metadata": {
        "_sphinx_cell_id": "ebff1614-b8ea-42bb-966a-d48b4c6786fc",
        "colab": {
          "base_uri": "https://localhost:8080/",
          "height": 868
        },
        "id": "j7b6GcPnjmTh",
        "outputId": "f0a15ee8-aa44-422e-e3b1-2f662e4dfefc"
      },
      "outputs": [
        {
          "output_type": "execute_result",
          "data": {
            "text/plain": [
              "number_of_courses_viewed  number_of_courses_viewed    1.000000\n",
              "                          annual_income               0.009770\n",
              "                          interaction_count          -0.023565\n",
              "                          lead_score                 -0.004879\n",
              "                          converted                   0.435914\n",
              "annual_income             number_of_courses_viewed    0.009770\n",
              "                          annual_income               1.000000\n",
              "                          interaction_count           0.027036\n",
              "                          lead_score                  0.015610\n",
              "                          converted                   0.053131\n",
              "interaction_count         number_of_courses_viewed   -0.023565\n",
              "                          annual_income               0.027036\n",
              "                          interaction_count           1.000000\n",
              "                          lead_score                  0.009888\n",
              "                          converted                   0.374573\n",
              "lead_score                number_of_courses_viewed   -0.004879\n",
              "                          annual_income               0.015610\n",
              "                          interaction_count           0.009888\n",
              "                          lead_score                  1.000000\n",
              "                          converted                   0.193673\n",
              "converted                 number_of_courses_viewed    0.435914\n",
              "                          annual_income               0.053131\n",
              "                          interaction_count           0.374573\n",
              "                          lead_score                  0.193673\n",
              "                          converted                   1.000000\n",
              "dtype: float64"
            ],
            "text/html": [
              "<div>\n",
              "<style scoped>\n",
              "    .dataframe tbody tr th:only-of-type {\n",
              "        vertical-align: middle;\n",
              "    }\n",
              "\n",
              "    .dataframe tbody tr th {\n",
              "        vertical-align: top;\n",
              "    }\n",
              "\n",
              "    .dataframe thead th {\n",
              "        text-align: right;\n",
              "    }\n",
              "</style>\n",
              "<table border=\"1\" class=\"dataframe\">\n",
              "  <thead>\n",
              "    <tr style=\"text-align: right;\">\n",
              "      <th></th>\n",
              "      <th></th>\n",
              "      <th>0</th>\n",
              "    </tr>\n",
              "  </thead>\n",
              "  <tbody>\n",
              "    <tr>\n",
              "      <th rowspan=\"5\" valign=\"top\">number_of_courses_viewed</th>\n",
              "      <th>number_of_courses_viewed</th>\n",
              "      <td>1.000000</td>\n",
              "    </tr>\n",
              "    <tr>\n",
              "      <th>annual_income</th>\n",
              "      <td>0.009770</td>\n",
              "    </tr>\n",
              "    <tr>\n",
              "      <th>interaction_count</th>\n",
              "      <td>-0.023565</td>\n",
              "    </tr>\n",
              "    <tr>\n",
              "      <th>lead_score</th>\n",
              "      <td>-0.004879</td>\n",
              "    </tr>\n",
              "    <tr>\n",
              "      <th>converted</th>\n",
              "      <td>0.435914</td>\n",
              "    </tr>\n",
              "    <tr>\n",
              "      <th rowspan=\"5\" valign=\"top\">annual_income</th>\n",
              "      <th>number_of_courses_viewed</th>\n",
              "      <td>0.009770</td>\n",
              "    </tr>\n",
              "    <tr>\n",
              "      <th>annual_income</th>\n",
              "      <td>1.000000</td>\n",
              "    </tr>\n",
              "    <tr>\n",
              "      <th>interaction_count</th>\n",
              "      <td>0.027036</td>\n",
              "    </tr>\n",
              "    <tr>\n",
              "      <th>lead_score</th>\n",
              "      <td>0.015610</td>\n",
              "    </tr>\n",
              "    <tr>\n",
              "      <th>converted</th>\n",
              "      <td>0.053131</td>\n",
              "    </tr>\n",
              "    <tr>\n",
              "      <th rowspan=\"5\" valign=\"top\">interaction_count</th>\n",
              "      <th>number_of_courses_viewed</th>\n",
              "      <td>-0.023565</td>\n",
              "    </tr>\n",
              "    <tr>\n",
              "      <th>annual_income</th>\n",
              "      <td>0.027036</td>\n",
              "    </tr>\n",
              "    <tr>\n",
              "      <th>interaction_count</th>\n",
              "      <td>1.000000</td>\n",
              "    </tr>\n",
              "    <tr>\n",
              "      <th>lead_score</th>\n",
              "      <td>0.009888</td>\n",
              "    </tr>\n",
              "    <tr>\n",
              "      <th>converted</th>\n",
              "      <td>0.374573</td>\n",
              "    </tr>\n",
              "    <tr>\n",
              "      <th rowspan=\"5\" valign=\"top\">lead_score</th>\n",
              "      <th>number_of_courses_viewed</th>\n",
              "      <td>-0.004879</td>\n",
              "    </tr>\n",
              "    <tr>\n",
              "      <th>annual_income</th>\n",
              "      <td>0.015610</td>\n",
              "    </tr>\n",
              "    <tr>\n",
              "      <th>interaction_count</th>\n",
              "      <td>0.009888</td>\n",
              "    </tr>\n",
              "    <tr>\n",
              "      <th>lead_score</th>\n",
              "      <td>1.000000</td>\n",
              "    </tr>\n",
              "    <tr>\n",
              "      <th>converted</th>\n",
              "      <td>0.193673</td>\n",
              "    </tr>\n",
              "    <tr>\n",
              "      <th rowspan=\"5\" valign=\"top\">converted</th>\n",
              "      <th>number_of_courses_viewed</th>\n",
              "      <td>0.435914</td>\n",
              "    </tr>\n",
              "    <tr>\n",
              "      <th>annual_income</th>\n",
              "      <td>0.053131</td>\n",
              "    </tr>\n",
              "    <tr>\n",
              "      <th>interaction_count</th>\n",
              "      <td>0.374573</td>\n",
              "    </tr>\n",
              "    <tr>\n",
              "      <th>lead_score</th>\n",
              "      <td>0.193673</td>\n",
              "    </tr>\n",
              "    <tr>\n",
              "      <th>converted</th>\n",
              "      <td>1.000000</td>\n",
              "    </tr>\n",
              "  </tbody>\n",
              "</table>\n",
              "</div><br><label><b>dtype:</b> float64</label>"
            ]
          },
          "metadata": {},
          "execution_count": 33
        }
      ],
      "source": [
        "corr_matrix_unstacked"
      ]
    },
    {
      "cell_type": "code",
      "execution_count": 34,
      "metadata": {
        "_sphinx_cell_id": "8f79f243-7581-4c3f-9a78-ff93975266b8",
        "id": "hRGdj2vAjmTi"
      },
      "outputs": [],
      "source": [
        "# Split the Data\n",
        "from sklearn.model_selection import train_test_split"
      ]
    },
    {
      "cell_type": "code",
      "execution_count": 35,
      "metadata": {
        "_sphinx_cell_id": "2745d7d3-6645-42db-9c25-e8d2d967905e",
        "colab": {
          "base_uri": "https://localhost:8080/"
        },
        "id": "Nk7QibKDjmTi",
        "outputId": "c7ec2e12-bf34-4ad6-eeb2-04c295e55232"
      },
      "outputs": [
        {
          "output_type": "stream",
          "name": "stdout",
          "text": [
            "Train size: 876\n",
            "Validation size: 293\n",
            "Test size: 293\n"
          ]
        }
      ],
      "source": [
        "# Split the data into 80% full train and 20% test\n",
        "df_full_train, df_test = train_test_split(df, test_size=0.2, random_state=1)\n",
        "\n",
        "# Split the full train into 60% train and 20% validation\n",
        "df_train, df_val = train_test_split(df_full_train, test_size=0.25, random_state=42)  # 0.25 * 80% = 20%\n",
        "\n",
        "df_train = df_train.reset_index(drop=True)\n",
        "df_val = df_val.reset_index(drop=True)\n",
        "df_test = df_test.reset_index(drop=True)\n",
        "\n",
        "y_train = df_train.converted.values\n",
        "y_val = df_val.converted.values\n",
        "y_test = df_test.converted.values\n",
        "\n",
        "del df_train['converted']\n",
        "del df_val['converted']\n",
        "del df_test['converted']\n",
        "\n",
        "# Verify the sizes\n",
        "print(f\"Train size: {len(df_train)}\")\n",
        "print(f\"Validation size: {len(df_val)}\")\n",
        "print(f\"Test size: {len(df_test)}\")"
      ]
    },
    {
      "cell_type": "markdown",
      "metadata": {
        "_sphinx_cell_id": "643fe46b-d475-4786-a449-a0d9e086dd92",
        "id": "xjHWb8TQjmTj"
      },
      "source": [
        "### Question 3\n",
        "\n",
        "- Calculate the mutual information score between `converted` and other categorical variables in the dataset. Use the training set only.\n",
        "- Round the scores to 2 decimals using `round(score, 2)`.\n",
        "\n",
        "Which of these variables has the biggest mutual information score?\n",
        "\n",
        "- `industry`\n",
        "- `location`\n",
        "- `lead_source`\n",
        "- `employment_status`\n"
      ]
    },
    {
      "cell_type": "code",
      "execution_count": 36,
      "metadata": {
        "_sphinx_cell_id": "fadb0983-2376-4832-84f5-e1eefd3acb04",
        "id": "N8dBT75FjmTj",
        "outputId": "05518309-02bd-4c0d-cd22-56f6d9fb83a3",
        "colab": {
          "base_uri": "https://localhost:8080/"
        }
      },
      "outputs": [
        {
          "output_type": "stream",
          "name": "stdout",
          "text": [
            "Mutual Information between lead_source and target: 0.03\n",
            "Mutual Information between employment_status and target: 0.01\n",
            "Mutual Information between industry and target: 0.01\n",
            "Mutual Information between location and target: 0.0\n"
          ]
        }
      ],
      "source": [
        "from sklearn.metrics import mutual_info_score\n",
        "\n",
        "# Select categorical columns from the training set\n",
        "categorical_columns = df_train.select_dtypes(include=['object']).columns\n",
        "\n",
        "# Calculate mutual information scores\n",
        "mi_scores = {}\n",
        "for col in categorical_columns:\n",
        "    mi_scores[col] = mutual_info_score(df_train[col], y_train)\n",
        "\n",
        "# Sort and display the mutual information scores rounded to 2 decimal places\n",
        "sorted_mi_scores = sorted(mi_scores.items(), key=lambda x: x[1], reverse=True)\n",
        "for col, score in sorted_mi_scores:\n",
        "    print(f\"Mutual Information between {col} and target: {round(score, 2)}\")"
      ]
    },
    {
      "cell_type": "markdown",
      "metadata": {
        "_sphinx_cell_id": "2755698f-55ba-402c-9994-bfd2614b44fb",
        "id": "J5i2IjIyjmTj"
      },
      "source": [
        "### Question 4\n",
        "\n",
        "- Now let's train a logistic regression.\n",
        "- Remember that we have several categorical variables in the dataset. Include them using one-hot encoding.\n",
        "- Fit the model on the training dataset.\n",
        "  - To make sure the results are reproducible across different versions of Scikit-Learn, fit the model with these parameters:\n",
        "  - `model = LogisticRegression(solver='liblinear', C=1.0, max_iter=1000, random_state=42)`\n",
        "- Calculate the accuracy on the validation dataset and round it to 2 decimal digits.\n",
        "\n",
        "What accuracy did you get?\n",
        "\n",
        "- 0.64\n",
        "- 0.74\n",
        "- 0.84\n",
        "- 0.94"
      ]
    },
    {
      "cell_type": "code",
      "execution_count": 38,
      "metadata": {
        "_sphinx_cell_id": "75d5152f-83e2-407f-b5dc-930024f88a6b",
        "id": "pLzkysH2jmTj",
        "colab": {
          "base_uri": "https://localhost:8080/"
        },
        "outputId": "f2932f88-8bf8-4e84-bfe6-395c7fc4a394"
      },
      "outputs": [
        {
          "output_type": "execute_result",
          "data": {
            "text/plain": [
              "0.7303754266211604"
            ]
          },
          "metadata": {},
          "execution_count": 38
        }
      ],
      "source": [
        "from sklearn.feature_extraction import DictVectorizer\n",
        "from sklearn.linear_model import LogisticRegression\n",
        "from sklearn.metrics import accuracy_score\n",
        "\n",
        "dv = DictVectorizer(sparse=False)\n",
        "\n",
        "train_dict = df_train.to_dict(orient='records')\n",
        "X_train = dv.fit_transform(train_dict)\n",
        "\n",
        "val_dict = df_val.to_dict(orient='records')\n",
        "X_val = dv.transform(val_dict)\n",
        "\n",
        "model = LogisticRegression(solver='liblinear', C=1.0, max_iter=1000, random_state=42)\n",
        "model.fit(X_train, y_train)\n",
        "\n",
        "y_pred = model.predict(X_val)\n",
        "accuracy_score(y_val, y_pred)"
      ]
    },
    {
      "cell_type": "code",
      "execution_count": 39,
      "metadata": {
        "_sphinx_cell_id": "d81565c3-0b6f-4f55-8b18-0036b1505732",
        "id": "MHJdMFjYjmTk",
        "outputId": "74ec8ecf-910c-4ded-9538-aa35c2ff0af0",
        "colab": {
          "base_uri": "https://localhost:8080/"
        }
      },
      "outputs": [
        {
          "output_type": "execute_result",
          "data": {
            "text/plain": [
              "Index(['lead_source', 'industry', 'number_of_courses_viewed', 'annual_income',\n",
              "       'employment_status', 'location', 'interaction_count', 'lead_score'],\n",
              "      dtype='object')"
            ]
          },
          "metadata": {},
          "execution_count": 39
        }
      ],
      "source": [
        "df_train.columns"
      ]
    },
    {
      "cell_type": "markdown",
      "source": [
        "### Question 5\n",
        "\n",
        "- Let's find the least useful feature using the _feature elimination_ technique.\n",
        "- Train a model using the same features and parameters as in Q4 (without rounding).\n",
        "- Now exclude each feature from this set and train a model without it. Record the accuracy for each model.\n",
        "- For each feature, calculate the difference between the original accuracy and the accuracy without the feature.\n",
        "\n",
        "Which of following feature has the smallest difference?\n",
        "\n",
        "- `'industry'`\n",
        "- `'employment_status'`\n",
        "- `'lead_score'`\n",
        "\n",
        "> **Note**: The difference doesn't have to be positive."
      ],
      "metadata": {
        "id": "IauVyqlXq_r5"
      }
    },
    {
      "cell_type": "code",
      "execution_count": 41,
      "metadata": {
        "_sphinx_cell_id": "e034d495-3572-4eda-8714-635a620e7e14",
        "id": "G7m7Jh7OjmTk",
        "outputId": "77f736c4-365a-41dc-8bb9-e9c09726f37c",
        "colab": {
          "base_uri": "https://localhost:8080/"
        }
      },
      "outputs": [
        {
          "output_type": "stream",
          "name": "stdout",
          "text": [
            "Feature with the smallest difference: industry\n",
            "Accuracy differences: {'industry': -0.010238907849829393, 'employment_status': 0.0, 'lead_score': 0.0}\n"
          ]
        }
      ],
      "source": [
        "from sklearn.linear_model import LogisticRegression\n",
        "from sklearn.metrics import accuracy_score\n",
        "\n",
        "# Define the features and target\n",
        "features = ['industry',\n",
        "            'employment_status', 'lead_score']\n",
        "dv = DictVectorizer(sparse=False)\n",
        "\n",
        "train_dict = df_train.to_dict(orient='records')\n",
        "X_train = dv.fit_transform(train_dict)\n",
        "\n",
        "val_dict = df_val.to_dict(orient='records')\n",
        "X_val = dv.transform(val_dict)\n",
        "\n",
        "model = LogisticRegression(solver='liblinear', C=1.0, max_iter=1000, random_state=42)\n",
        "model.fit(X_train, y_train)\n",
        "baseline_accuracy = accuracy_score(y_val, y_pred)\n",
        "\n",
        "# Perform feature elimination\n",
        "accuracy_differences = {}\n",
        "for feature in features:\n",
        "    # Exclude the feature\n",
        "\n",
        "    train_dict = df_train.drop(columns=[feature]).to_dict(orient='records')\n",
        "    X_train_subset= dv.fit_transform(train_dict)\n",
        "\n",
        "    val_dict = df_val.drop(columns=[feature]).to_dict(orient='records')\n",
        "    X_val_subset = dv.transform(val_dict)\n",
        "\n",
        "    # Train the model without the feature\n",
        "    model = LogisticRegression(solver='liblinear', C=1.0, max_iter=1000, random_state=42)\n",
        "    model.fit(X_train_subset, y_train)\n",
        "    y_pred = model.predict(X_val_subset)\n",
        "    accuracy = accuracy_score(y_val, y_pred)\n",
        "\n",
        "    # Calculate the difference\n",
        "    accuracy_differences[feature] = baseline_accuracy - accuracy\n",
        "\n",
        "# Find the feature with the smallest difference\n",
        "least_useful_feature = min(accuracy_differences, key=accuracy_differences.get)\n",
        "print(\"Feature with the smallest difference:\", least_useful_feature)\n",
        "print(\"Accuracy differences:\", accuracy_differences)"
      ]
    },
    {
      "cell_type": "markdown",
      "metadata": {
        "_sphinx_cell_id": "2317fb72-0a21-4a90-b519-0dd9a83307a2",
        "id": "xZ2K5z-6jmTk"
      },
      "source": [
        "### Question 6\n",
        "\n",
        "- Now let's train a regularized logistic regression.\n",
        "- Let's try the following values of the parameter `C`: `[0.01, 0.1, 1, 10, 100]`.\n",
        "- Train models using all the features as in Q4.\n",
        "- Calculate the accuracy on the validation dataset and round it to 3 decimal digits.\n",
        "\n",
        "Which of these `C` leads to the best accuracy on the validation set?\n",
        "\n",
        "- 0.01\n",
        "- 0.1\n",
        "- 1\n",
        "- 10\n",
        "- 100\n",
        "\n",
        "> **Note**: If there are multiple options, select the smallest `C`.\n"
      ]
    },
    {
      "cell_type": "code",
      "execution_count": 42,
      "metadata": {
        "_sphinx_cell_id": "aff5987d-a2ae-4c8b-9b0f-b6880ca4f9f9",
        "id": "xO37nM0EjmTk",
        "outputId": "4d249a76-42dd-428b-9385-fa2ee812ee58",
        "colab": {
          "base_uri": "https://localhost:8080/"
        }
      },
      "outputs": [
        {
          "output_type": "stream",
          "name": "stdout",
          "text": [
            "Accuracies for different C values:\n",
            "C=0.01, Validation Accuracy=0.7304\n",
            "C=0.1, Validation Accuracy=0.7304\n",
            "C=1, Validation Accuracy=0.7304\n",
            "C=10, Validation Accuracy=0.7304\n",
            "C=100, Validation Accuracy=0.7304\n",
            "\n",
            "Best C value: 0.01 with Validation Accuracy: 0.7304\n"
          ]
        }
      ],
      "source": [
        "from sklearn.linear_model import LogisticRegression\n",
        "from sklearn.metrics import accuracy_score\n",
        "\n",
        "# Define the features and target\n",
        "dv = DictVectorizer(sparse=False)\n",
        "\n",
        "train_dict = df_train.to_dict(orient='records')\n",
        "X_train = dv.fit_transform(train_dict)\n",
        "\n",
        "val_dict = df_val.to_dict(orient='records')\n",
        "X_val = dv.transform(val_dict)\n",
        "\n",
        "# Define the values of C to try\n",
        "C_values = [0.01, 0.1, 1, 10, 100]\n",
        "\n",
        "# Train models and calculate accuracy\n",
        "accuracies = {}\n",
        "for C in C_values:\n",
        "    model = LogisticRegression(solver='liblinear', C=C, max_iter=1000, random_state=42)\n",
        "    model.fit(X_train, y_train)\n",
        "    y_pred = model.predict(X_val)\n",
        "    accuracy = accuracy_score(y_val, y_pred)\n",
        "    accuracies[C] = round(accuracy, 4)\n",
        "\n",
        "# Find the best C value\n",
        "best_C = max(accuracies, key=accuracies.get)\n",
        "print(\"Accuracies for different C values:\")\n",
        "for C, acc in accuracies.items():\n",
        "    print(f\"C={C}, Validation Accuracy={acc}\")\n",
        "print(f\"\\nBest C value: {best_C} with Validation Accuracy: {accuracies[best_C]}\")"
      ]
    }
  ],
  "metadata": {
    "__sphinx_history__.8db4bd1c-5b55-48ef-8fa4-43a2be662b3a": "eJzNVstqZFUUJQGlvY0QCgdNRpfuwsTGXTnvR6GIIOKokWCDRKTZ55WkSVLh1k3HFgeN4A+I+AWC0uDAsYjOnPkhfoXrZigOSgfS1KCq4Nx911p7rb1PNw8lmVRkJpusJRNqo9DYkNGsUnVOJc2zVx9ejKfjWS19PuHx7ktiYRfy/u1bPz3/4feXd549//Ohun3rjx+nP799/+yD5a9b3VymkKUpjVKqKGeSpyAVk7GNg5EpqmgPv8XB1KRVUhaKLgKB4Uox1EQxKXwLGbxtu2el9W/3l2UxVC6P8vrJ/t7JOF6ulwcHA18vjk/Hk6t0ta5DXl2M9WJc5NX5AZ/Vz+rT4+H0eDXUJweFR17XcX1wzuuxDgd5dTWs66OzqeI6r4bTi+MFKu+90W8vP+zm1oeSnZUAYjWZGitNlKhGUz3roLjptN/NlUktFs4UdXZkYtGUDATVtgXNsbbcyp3tG01EsGBmHSkhUFJAbA4tUm7ahmyM896nTTWZ/a+a3Nla/gJgwXOyRVuKXgYyPjhKnCrp6rKJSnoX/ONvXkgGU0+DicZb4YmbhCmTSxRUUKS8liJL4XRoR+jpJuh3tpefdPPqPdtQKqHZHt3XqBiMIN2y1Uq56jUi1M0blxKVFSRdFTjnG4rBUnhJ8qUEVYuevVLa4gTA9ye5AVeF4GK2MJ5JgJHxZPDeko1WGtYmB04T3E2KA27p5t7nVhmmFrklhDwFilZLCslnGYJl52N6a6IVmVNhysHAqVYwhVwrORurZZ1ZtDyb3evfg/r95VAveeDxdHUBowN3rqloYQzVXBGJ1AQl14Cn2uJNCHi52zg6W8sH3dw52dgCQDPTNPElEcvqyWrPUoaovVGPX9+s4lSvyKgyvEpV3SiGXykzFGlGNnBLWaijTeuBcfVJFJUKOY00YNpF2MBJUqpIroGDc21iXEUMrEqm2lzGuZwoSQcYQUldbdQ2ToxRkU2pEcxI5YwOOOHQKaeoKWGLsTnobKfeb4IQvf9qGsm2CZ2EouzRG5Mt/F0TE2pHZ10xyPDhp5uB3NX3+vdXQ58ZoVsdnw581sNZ49VQ12/2MMQZ59qPJ/W8v0aM+70H7+51/dby52k2WNOSbYUmIrAHFIuywInCRwxbDsnYw69xcBMgs/8C5O/o84bovwOo2JJPThhyBr422JuUdEGEqjROVvjK+OGL7vNujhboLBLGfXXQ29UI0xaB4VOyRqRKCmHmOtOpf4/m7m53RwllSSL18iMRltoslVpEKY6W9xF0VWAcD9WQHDJKwyBZ3bhcwN0GJgqz7Z2t5ZegVKRKyWC3cRQTJYZ7LZ5lF1XCxzpphqPuY5BHsPHaQgIrC9cFr4m5YCLBkTmigUL52WvdrNu5xk0BjC76p6urvqze+QfAdqnMQjh/A5gldqoLmHUew8a4AJ1CxoLELcJgE2cINgH+CyFicZg=",
    "kernelspec": {
      "display_name": "ml-zoomcamp",
      "language": "python",
      "name": "python3"
    },
    "language_info": {
      "codemirror_mode": {
        "name": "ipython",
        "version": 3
      },
      "file_extension": ".py",
      "mimetype": "text/x-python",
      "name": "python",
      "nbconvert_exporter": "python",
      "pygments_lexer": "ipython3",
      "version": "3.11.13"
    },
    "colab": {
      "provenance": [],
      "include_colab_link": true
    }
  },
  "nbformat": 4,
  "nbformat_minor": 0
}